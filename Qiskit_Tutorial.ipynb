{
 "cells": [
  {
   "cell_type": "code",
   "execution_count": 6,
   "id": "649856b2",
   "metadata": {},
   "outputs": [
    {
     "name": "stdout",
     "output_type": "stream",
     "text": [
      "Collecting qiskit-aer\n",
      "  Downloading qiskit_aer-0.13.2-cp39-cp39-win_amd64.whl (9.5 MB)\n",
      "     ---------------------------------------- 9.5/9.5 MB 1.2 MB/s eta 0:00:00\n",
      "Requirement already satisfied: psutil>=5 in c:\\users\\rudra\\anaconda3\\lib\\site-packages (from qiskit-aer) (5.9.0)\n",
      "Requirement already satisfied: numpy>=1.16.3 in c:\\users\\rudra\\anaconda3\\lib\\site-packages (from qiskit-aer) (1.23.5)\n",
      "Requirement already satisfied: scipy>=1.0 in c:\\users\\rudra\\anaconda3\\lib\\site-packages (from qiskit-aer) (1.9.1)\n",
      "Requirement already satisfied: qiskit>=0.45.0 in c:\\users\\rudra\\anaconda3\\lib\\site-packages (from qiskit-aer) (0.46.0)\n",
      "Requirement already satisfied: qiskit-terra==0.46.0 in c:\\users\\rudra\\anaconda3\\lib\\site-packages (from qiskit>=0.45.0->qiskit-aer) (0.46.0)\n",
      "Requirement already satisfied: sympy>=1.3 in c:\\users\\rudra\\anaconda3\\lib\\site-packages (from qiskit-terra==0.46.0->qiskit>=0.45.0->qiskit-aer) (1.10.1)\n",
      "Requirement already satisfied: ply>=3.10 in c:\\users\\rudra\\anaconda3\\lib\\site-packages (from qiskit-terra==0.46.0->qiskit>=0.45.0->qiskit-aer) (3.11)\n",
      "Requirement already satisfied: python-dateutil>=2.8.0 in c:\\users\\rudra\\anaconda3\\lib\\site-packages (from qiskit-terra==0.46.0->qiskit>=0.45.0->qiskit-aer) (2.8.2)\n",
      "Requirement already satisfied: rustworkx>=0.13.0 in c:\\users\\rudra\\anaconda3\\lib\\site-packages (from qiskit-terra==0.46.0->qiskit>=0.45.0->qiskit-aer) (0.14.0)\n",
      "Requirement already satisfied: dill>=0.3 in c:\\users\\rudra\\anaconda3\\lib\\site-packages (from qiskit-terra==0.46.0->qiskit>=0.45.0->qiskit-aer) (0.3.4)\n",
      "Requirement already satisfied: stevedore>=3.0.0 in c:\\users\\rudra\\anaconda3\\lib\\site-packages (from qiskit-terra==0.46.0->qiskit>=0.45.0->qiskit-aer) (5.1.0)\n",
      "Requirement already satisfied: typing-extensions in c:\\users\\rudra\\anaconda3\\lib\\site-packages (from qiskit-terra==0.46.0->qiskit>=0.45.0->qiskit-aer) (4.3.0)\n",
      "Requirement already satisfied: six>=1.5 in c:\\users\\rudra\\anaconda3\\lib\\site-packages (from python-dateutil>=2.8.0->qiskit-terra==0.46.0->qiskit>=0.45.0->qiskit-aer) (1.16.0)\n",
      "Requirement already satisfied: pbr!=2.1.0,>=2.0.0 in c:\\users\\rudra\\anaconda3\\lib\\site-packages (from stevedore>=3.0.0->qiskit-terra==0.46.0->qiskit>=0.45.0->qiskit-aer) (6.0.0)\n",
      "Requirement already satisfied: mpmath>=0.19 in c:\\users\\rudra\\anaconda3\\lib\\site-packages (from sympy>=1.3->qiskit-terra==0.46.0->qiskit>=0.45.0->qiskit-aer) (1.2.1)\n",
      "Installing collected packages: qiskit-aer\n",
      "Successfully installed qiskit-aer-0.13.2\n",
      "Note: you may need to restart the kernel to use updated packages.\n"
     ]
    }
   ],
   "source": [
    "# %pip install git+https://github.com/qiskit-community/qiskit-textbook.git#subdirectory=qiskit-textbook-src\n",
    "# %pip install -U qiskit-aer"
   ]
  },
  {
   "cell_type": "code",
   "execution_count": 2,
   "id": "2a7fc4b8",
   "metadata": {},
   "outputs": [
    {
     "name": "stderr",
     "output_type": "stream",
     "text": [
      "C:\\Users\\rudra\\AppData\\Local\\Temp\\ipykernel_16480\\3369625891.py:1: DeprecationWarning: qiskit.tools.jupyter is deprecated and will be removed in Qiskit 1.0.0\n",
      "  import qiskit.tools.jupyter\n"
     ]
    },
    {
     "data": {
      "text/html": [
       "<h3>Version Information</h3><table><tr><th>Software</th><th>Version</th></tr><tr><td><code>qiskit</code></td><td>0.46.0</td></tr><tr><th colspan='2'>System information</th></tr><tr><td>Python version</td><td>3.9.13</td></tr><tr><td>Python compiler</td><td>MSC v.1916 64 bit (AMD64)</td></tr><tr><td>Python build</td><td>main, Aug 25 2022 23:51:50</td></tr><tr><td>OS</td><td>Windows</td></tr><tr><td>CPUs</td><td>10</td></tr><tr><td>Memory (Gb)</td><td>7.692127227783203</td></tr><tr><td colspan='2'>Sun Feb 04 00:01:11 2024 India Standard Time</td></tr></table>"
      ],
      "text/plain": [
       "<IPython.core.display.HTML object>"
      ]
     },
     "metadata": {},
     "output_type": "display_data"
    }
   ],
   "source": [
    "import qiskit.tools.jupyter\n",
    "%qiskit_version_table"
   ]
  },
  {
   "cell_type": "code",
   "execution_count": 9,
   "id": "7c378b5f",
   "metadata": {},
   "outputs": [
    {
     "name": "stderr",
     "output_type": "stream",
     "text": [
      "C:\\Users\\rudra\\AppData\\Local\\Temp\\ipykernel_16480\\2366082810.py:1: DeprecationWarning: BasicAer is deprecated since Qiskit 0.46 and will be removed in Qiskit 1.0. The BasicAer (qiskit.providers.basicaer) module has been superseded by  qiskit.providers.basic_provider, and all its classes have been renamed to follow a new naming convention. More information and migration guidelines can be found in the 0.46 API docs for BasicAer.\n",
      "  from qiskit import QuantumCircuit, Aer, assemble, execute, BasicAer, transpile\n"
     ]
    }
   ],
   "source": [
    "from qiskit import QuantumCircuit, Aer, assemble, execute, BasicAer, transpile\n",
    "from qiskit_textbook.tools import array_to_latex\n",
    "from qiskit.tools.visualization import plot_histogram\n",
    "from qiskit_aer import Aer\n",
    "import numpy as np\n",
    "%matplotlib inline"
   ]
  },
  {
   "cell_type": "code",
   "execution_count": 14,
   "id": "4ce445ff",
   "metadata": {},
   "outputs": [
    {
     "data": {
      "image/png": "[encoded data removed]",
      "text/plain": [
       "<Figure size 246.346x117.056 with 1 Axes>"
      ]
     },
     "execution_count": 14,
     "metadata": {},
     "output_type": "execute_result"
    }
   ],
   "source": [
    "circ = QuantumCircuit(1)\n",
    "circ.h(0)\n",
    "circ.draw(initial_state=True, cregbundle=False, output='mpl')"
   ]
  },
  {
   "cell_type": "code",
   "execution_count": 15,
   "id": "eacc4f94",
   "metadata": {},
   "outputs": [
    {
     "data": {
      "text/latex": [
       "$\\displaystyle \n",
       "\\text{Statevector} = \\begin{bmatrix}\n",
       "\\tfrac{1}{\\sqrt{2}} \\\\\n",
       "\\tfrac{1}{\\sqrt{2}}\n",
       "\\end{bmatrix}\n",
       "$"
      ],
      "text/plain": [
       "<IPython.core.display.Math object>"
      ]
     },
     "metadata": {},
     "output_type": "display_data"
    }
   ],
   "source": [
    "simulator = Aer.get_backend('statevector_simulator')\n",
    "qobj = transpile(circ,simulator)\n",
    "final_state = simulator.run(qobj).result().get_statevector()\n",
    "array_to_latex(final_state, pretext=\"\\\\text{Statevector} = \")"
   ]
  },
  {
   "cell_type": "code",
   "execution_count": 49,
   "id": "7c5bb9d3",
   "metadata": {},
   "outputs": [
    {
     "name": "stderr",
     "output_type": "stream",
     "text": [
      "c:\\Users\\rudra\\anaconda3\\lib\\site-packages\\qiskit\\visualization\\circuit\\matplotlib.py:266: FutureWarning: The default matplotlib drawer scheme will be changed to \"iqp\" in a following release. To silence this warning, specify the current default explicitly as style=\"clifford\", or the new default as style=\"iqp\".\n",
      "  self._style, def_font_ratio = load_style(self._style)\n"
     ]
    },
    {
     "data": {
      "image/png": "[encoded data removed]",
      "text/plain": [
       "<Figure size 329.957x200.667 with 1 Axes>"
      ]
     },
     "execution_count": 49,
     "metadata": {},
     "output_type": "execute_result"
    }
   ],
   "source": [
    "circuit2 = QuantumCircuit(1, 1)\n",
    "circuit2.h(0)\n",
    "circuit2.measure([0], [0])\n",
    "circuit2.draw(initial_state=True, cregbundle=False, output='mpl')"
   ]
  },
  {
   "cell_type": "code",
   "execution_count": 50,
   "id": "0fd1daa4",
   "metadata": {},
   "outputs": [
    {
     "data": {
      "text/latex": [
       "$\\displaystyle \n",
       "\\text{Statevector} = \\begin{bmatrix}\n",
       "0 \\\\\n",
       "1\n",
       "\\end{bmatrix}\n",
       "$"
      ],
      "text/plain": [
       "<IPython.core.display.Math object>"
      ]
     },
     "metadata": {},
     "output_type": "display_data"
    }
   ],
   "source": [
    "simulator = Aer.get_backend('statevector_simulator') \n",
    "qobj = transpile(circuit2,simulator)                                                                                        \n",
    "final_state = simulator.run(qobj).result().get_statevector() \n",
    "array_to_latex(final_state, pretext=\"\\\\text{Statevector} = \")  "
   ]
  },
  {
   "cell_type": "code",
   "execution_count": 58,
   "id": "67307840",
   "metadata": {},
   "outputs": [
    {
     "name": "stdout",
     "output_type": "stream",
     "text": [
      "{'0': 51, '1': 49}\n"
     ]
    },
    {
     "name": "stderr",
     "output_type": "stream",
     "text": [
      "C:\\Users\\rudra\\AppData\\Local\\Temp\\ipykernel_16480\\3637967737.py:2: DeprecationWarning: The function ``qiskit.execute_function.execute()`` is deprecated as of qiskit 0.46.0. It will be removed in the Qiskit 1.0 release. This function combines ``transpile`` and ``backend.run``, which is covered by ``Sampler`` :mod:`~qiskit.primitives`. Alternatively, you can also run :func:`.transpile` followed by ``backend.run()``.\n",
      "  job =  execute(circuit2, backend = simulator, shots=100)\n"
     ]
    },
    {
     "data": {
      "image/png": "[encoded data removed]",
      "text/plain": [
       "<Figure size 700x500 with 1 Axes>"
      ]
     },
     "execution_count": 58,
     "metadata": {},
     "output_type": "execute_result"
    }
   ],
   "source": [
    "simulator = Aer.get_backend('qasm_simulator')\n",
    "job =  execute(circuit2, backend = simulator, shots=100) \n",
    "result = job.result()\n",
    "counts = result.get_counts(circuit2)\n",
    "print(counts)\n",
    "plot_histogram(counts)"
   ]
  },
  {
   "cell_type": "code",
   "execution_count": 61,
   "id": "fced07ab",
   "metadata": {},
   "outputs": [
    {
     "data": {
      "image/png": "[encoded data removed]",
      "text/plain": [
       "<Figure size 264.577x200.667 with 1 Axes>"
      ]
     },
     "execution_count": 61,
     "metadata": {},
     "output_type": "execute_result"
    }
   ],
   "source": [
    "circuit3 = QuantumCircuit(2)\n",
    "circuit3.h(0)                  \n",
    "circuit3.h(1)\n",
    "circuit3.draw(initial_state=True, cregbundle=False, output='mpl')"
   ]
  },
  {
   "cell_type": "code",
   "execution_count": 70,
   "id": "01a5c267",
   "metadata": {},
   "outputs": [
    {
     "data": {
      "text/latex": [
       "$\\displaystyle \n",
       "\\text{Statevector} = \\begin{bmatrix}\n",
       "\\tfrac{1}{2} \\\\\n",
       "\\tfrac{1}{2} \\\\\n",
       "\\tfrac{1}{2} \\\\\n",
       "\\tfrac{1}{2}\n",
       "\\end{bmatrix}\n",
       "$"
      ],
      "text/plain": [
       "<IPython.core.display.Math object>"
      ]
     },
     "metadata": {},
     "output_type": "display_data"
    }
   ],
   "source": [
    "sim = Aer.get_backend('statevector_simulator')\n",
    "qobj = transpile(circuit3, sim)\n",
    "final_state = sim.run(qobj).result().get_statevector()\n",
    "array_to_latex(final_state, pretext='\\\\text{Statevector} = ')"
   ]
  },
  {
   "cell_type": "code",
   "execution_count": 71,
   "id": "0145fa7d",
   "metadata": {},
   "outputs": [
    {
     "name": "stderr",
     "output_type": "stream",
     "text": [
      "c:\\Users\\rudra\\anaconda3\\lib\\site-packages\\qiskit\\visualization\\circuit\\matplotlib.py:266: FutureWarning: The default matplotlib drawer scheme will be changed to \"iqp\" in a following release. To silence this warning, specify the current default explicitly as style=\"clifford\", or the new default as style=\"iqp\".\n",
      "  self._style, def_font_ratio = load_style(self._style)\n"
     ]
    },
    {
     "data": {
      "image/png": "[encoded data removed]",
      "text/plain": [
       "<Figure size 348.188x200.667 with 1 Axes>"
      ]
     },
     "execution_count": 71,
     "metadata": {},
     "output_type": "execute_result"
    }
   ],
   "source": [
    "circuit4 = QuantumCircuit(2)\n",
    "circuit4.h(0)\n",
    "circuit4.cx(0, 1)\n",
    "circuit4.draw(initial_state=True, cregbundle=False, output='mpl')"
   ]
  },
  {
   "cell_type": "code",
   "execution_count": 72,
   "id": "87c0dc70",
   "metadata": {},
   "outputs": [
    {
     "data": {
      "text/latex": [
       "$\\displaystyle \n",
       "\\text{Statevector} = \\begin{bmatrix}\n",
       "\\tfrac{1}{\\sqrt{2}} \\\\\n",
       "0 \\\\\n",
       "0 \\\\\n",
       "\\tfrac{1}{\\sqrt{2}}\n",
       "\\end{bmatrix}\n",
       "$"
      ],
      "text/plain": [
       "<IPython.core.display.Math object>"
      ]
     },
     "metadata": {},
     "output_type": "display_data"
    }
   ],
   "source": [
    "simulator = Aer.get_backend('statevector_simulator')\n",
    "qobj = transpile(circuit4, simulator)\n",
    "final_state = simulator.run(qobj).result().get_statevector()\n",
    "array_to_latex(final_state, pretext='\\\\text{Statevector} = ')"
   ]
  },
  {
   "cell_type": "code",
   "execution_count": 78,
   "id": "878c88a5",
   "metadata": {},
   "outputs": [
    {
     "name": "stdout",
     "output_type": "stream",
     "text": [
      "Operator([[ 0.71+0.j,  0.71-0.j,  0.  +0.j,  0.  +0.j],\n",
      "          [ 0.  +0.j,  0.  +0.j,  0.71+0.j, -0.71+0.j],\n",
      "          [ 0.  +0.j,  0.  +0.j,  0.71+0.j,  0.71-0.j],\n",
      "          [ 0.71+0.j, -0.71+0.j,  0.  +0.j,  0.  +0.j]],\n",
      "         input_dims=(2, 2), output_dims=(2, 2))\n"
     ]
    },
    {
     "name": "stderr",
     "output_type": "stream",
     "text": [
      "C:\\Users\\rudra\\AppData\\Local\\Temp\\ipykernel_16480\\1595853994.py:2: DeprecationWarning: The function ``qiskit.execute_function.execute()`` is deprecated as of qiskit 0.46.0. It will be removed in the Qiskit 1.0 release. This function combines ``transpile`` and ``backend.run``, which is covered by ``Sampler`` :mod:`~qiskit.primitives`. Alternatively, you can also run :func:`.transpile` followed by ``backend.run()``.\n",
      "  job = execute(circuit4, backend=simulator_unitary)\n"
     ]
    }
   ],
   "source": [
    "simulator_unitary = Aer.get_backend('unitary_simulator')\n",
    "job = execute(circuit4, backend=simulator_unitary)\n",
    "result = job.result()\n",
    "print(result.get_unitary(circuit4, decimals=2))"
   ]
  },
  {
   "cell_type": "code",
   "execution_count": null,
   "id": "ff54ec80",
   "metadata": {},
   "outputs": [],
   "source": []
  }
 ],
 "metadata": {
  "kernelspec": {
   "display_name": "notebook_env",
   "language": "python",
   "name": "notebook_env"
  },
  "language_info": {
   "codemirror_mode": {
    "name": "ipython",
    "version": 3
   },
   "file_extension": ".py",
   "mimetype": "text/x-python",
   "name": "python",
   "nbconvert_exporter": "python",
   "pygments_lexer": "ipython3",
   "version": "3.9.13"
  }
 },
 "nbformat": 4,
 "nbformat_minor": 5
}
